{
 "cells": [
  {
   "cell_type": "code",
   "execution_count": 1,
   "metadata": {},
   "outputs": [],
   "source": [
    "import yaml\n",
    "import pymongo\n",
    "from urllib.parse import quote_plus as quote\n",
    "import hashlib"
   ]
  },
  {
   "cell_type": "code",
   "execution_count": 2,
   "metadata": {},
   "outputs": [],
   "source": [
    "# Подключимся к нашей коллекции\n",
    "\n",
    "with open('../env/creds.yaml', 'r') as file:\n",
    "    creds_dict = yaml.safe_load(file)\n",
    "    \n",
    "url = 'mongodb://{user}:{pw}@{hosts}/?{rs}&authSource={auth_src}&{am}&tls=true&tlsCAFile={cert_file}'.format(\n",
    "    user=creds_dict['username'],\n",
    "    pw=quote(creds_dict['password']),\n",
    "    hosts=creds_dict['host'],\n",
    "    rs='replicaSet=rs01',\n",
    "    auth_src=creds_dict['database'],\n",
    "    am='authMechanism=DEFAULT',\n",
    "    cert_file='../env/root.crt'\n",
    "    )\n",
    "\n",
    "dbs = pymongo.MongoClient(url)\n",
    "\n",
    "db = dbs[creds_dict['database']]\n",
    "\n",
    "collection = db['initial_dataset']"
   ]
  },
  {
   "cell_type": "code",
   "execution_count": 3,
   "metadata": {},
   "outputs": [],
   "source": [
    "# Выгрузим данные из коллекции\n",
    "pipeline = [{ \"$unwind\" : \"$data_result.boxes\" },\n",
    "            {\"$project\":{\n",
    "                \"mass\": \"$data_result.boxes.mass\",\n",
    "                \"size\": \"$data_result.boxes.size\",\n",
    "                \"stacking\": \"$data_result.boxes.stacking\",\n",
    "                \"turnover\": \"$data_result.boxes.turnover\",\n",
    "                \"stacking_limit\": \"$data_result.boxes.stacking_limit\",\n",
    "                \"loading_size\": \"$data_result.cargo_space.loading_size\",\n",
    "                \"density_percent\": \"$data_result.cargo_space.calculation_info.density_percent\",\n",
    "                \"filling_space_percent\": \"$data_result.cargo_space.calculation_info.filling_space_percent\",\n",
    "                }},\n",
    "            {\"$group\": {\"_id\": \"$_id\",\n",
    "                        \"loading_size\": {\"$first\":\"$loading_size\"},\n",
    "                        \"density_percent\": {\"$first\":\"$density_percent\"},\n",
    "                        \"filling_space_percent\": {\"$first\":\"$filling_space_percent\"},\n",
    "                        \"boxes\": {\n",
    "                            \"$push\":  {\n",
    "                                \"mass\": \"$mass\",\n",
    "                                \"size\": \"$size\",\n",
    "                                \"stacking\": \"$stacking\",\n",
    "                                \"turnover\": \"$turnover\",\n",
    "                                \"stacking_limit\": \"$stacking_limit\"                               \n",
    "                            }\n",
    "                            \n",
    "                        }\n",
    "            }\n",
    "            }\n",
    "            ]\n",
    "result = collection.aggregate(pipeline)\n",
    "#item = result.next()\n",
    "#print(item)\n",
    "dataset = [i for i in result]"
   ]
  },
  {
   "cell_type": "code",
   "execution_count": 4,
   "metadata": {},
   "outputs": [
    {
     "name": "stdout",
     "output_type": "stream",
     "text": [
      "[0.0]\n"
     ]
    }
   ],
   "source": [
    "# stacking_limit везде = 0 - бесполезное значение\n",
    "stacking_limits = list()\n",
    "for item in dataset:\n",
    "    for box in item['boxes']:\n",
    "        if box['stacking_limit'] not in stacking_limits:\n",
    "            stacking_limits.append(box['stacking_limit'])\n",
    "print(stacking_limits)"
   ]
  },
  {
   "cell_type": "code",
   "execution_count": 5,
   "metadata": {},
   "outputs": [
    {
     "data": {
      "text/plain": [
       "{'mass': 48.0,\n",
       " 'size': {'width': 720.0, 'height': 600.0, 'length': 1420.0},\n",
       " 'stacking': True,\n",
       " 'turnover': True,\n",
       " 'stacking_limit': 0.0}"
      ]
     },
     "execution_count": 5,
     "metadata": {},
     "output_type": "execute_result"
    }
   ],
   "source": [
    "# Размеры, похоже, что заданы в см.\n",
    "dataset[0]['boxes'][0]"
   ]
  },
  {
   "cell_type": "code",
   "execution_count": 6,
   "metadata": {},
   "outputs": [
    {
     "name": "stdout",
     "output_type": "stream",
     "text": [
      "Исходные размеры контейнера: {'width': 1000.0, 'height': 2330.0, 'length': 1300.0}\n",
      "Исходные размеры 1-й коробки: {'width': 720.0, 'height': 600.0, 'length': 1420.0}\n",
      "Максимальная сторона: 2330.0\n",
      "Нормализованные размеры контейнера: {'width': 42.92, 'height': 100.0, 'length': 55.79}\n",
      "Нормализованные размеры 1-й коробки: {'width': 30.9, 'height': 25.75, 'length': 60.94}\n"
     ]
    }
   ],
   "source": [
    "# Как сделать размеры более единообразными (процент от максимальной стороны контейнера)?\n",
    "loading_size = dataset[0]['loading_size']\n",
    "box_size = dataset[0]['boxes'][0]['size']\n",
    "print(f\"Исходные размеры контейнера: {loading_size}\")\n",
    "print(f\"Исходные размеры 1-й коробки: {box_size}\")\n",
    "norm_base = max(loading_size['width'], loading_size['height'], loading_size['length'])\n",
    "print(f\"Максимальная сторона: {norm_base}\")\n",
    "loading_size = {k: round(v*100/norm_base,2) for k,v in loading_size.items()}\n",
    "box_size = {k: round(v*100/norm_base,2) for k,v in box_size.items()}\n",
    "print(f\"Нормализованные размеры контейнера: {loading_size}\")\n",
    "print(f\"Нормализованные размеры 1-й коробки: {box_size}\")"
   ]
  },
  {
   "cell_type": "code",
   "execution_count": 7,
   "metadata": {},
   "outputs": [],
   "source": [
    "def as_is_hash(box): #box_i = dataset[0]['boxes'][i]\n",
    "    if box['turnover']:\n",
    "        size_lst = sorted([x for x in box['size_scale'].values()])\n",
    "    else:\n",
    "        size_lst = [box['size_scale']['height'],\n",
    "                    min(box['size_scale']['width'], box['size_scale']['length']),\n",
    "                    max(box['size_scale']['width'], box['size_scale']['length'])]\n",
    "    hash_object = hashlib.md5(\n",
    "        ('h'+str(size_lst[0])+\\\n",
    "         'w'+str(size_lst[1])+\\\n",
    "         'l'+str(size_lst[2])+\\\n",
    "         's'+str(box['stacking'])+\\\n",
    "         't'+str(box['turnover'])\n",
    "        ).encode())\n",
    "    return hash_object.hexdigest()"
   ]
  },
  {
   "cell_type": "code",
   "execution_count": 8,
   "metadata": {},
   "outputs": [],
   "source": [
    "def hash_cont(loading_size):\n",
    "    hash_object = hashlib.md5(\n",
    "        ('h'+str(loading_size['height'])+\\\n",
    "         'w'+str(loading_size['width'])+\\\n",
    "         'l'+str(loading_size['length'])\n",
    "        ).encode())\n",
    "    return hash_object.hexdigest()"
   ]
  },
  {
   "cell_type": "code",
   "execution_count": 9,
   "metadata": {},
   "outputs": [],
   "source": [
    "def scale_item(item):\n",
    "    loading_size = item['loading_size']\n",
    "    norm_base = max(loading_size['width'], loading_size['height'], loading_size['length'])\n",
    "    item['loading_size_scale'] = {k: round(v*100/norm_base,2) for k,v in loading_size.items()}\n",
    "    for box in item['boxes']:\n",
    "        box_size = box['size']\n",
    "        box['size_scale'] = {k: round(v*100/norm_base,2) for k,v in box_size.items()}\n",
    "        box['hash'] = as_is_hash(box)\n",
    "    item['cont_hash'] = hash_cont(loading_size)\n",
    "    item['boxes_hash'] = ','.join(sorted([box['hash'] for box in item['boxes']]))\n",
    "    return item"
   ]
  },
  {
   "cell_type": "code",
   "execution_count": 10,
   "metadata": {},
   "outputs": [],
   "source": [
    "dataset_scaled = [scale_item(item) for item in dataset]"
   ]
  },
  {
   "cell_type": "code",
   "execution_count": 11,
   "metadata": {},
   "outputs": [
    {
     "data": {
      "text/plain": [
       "628"
      ]
     },
     "execution_count": 11,
     "metadata": {},
     "output_type": "execute_result"
    }
   ],
   "source": [
    "len(dataset_scaled) # total containers"
   ]
  },
  {
   "cell_type": "code",
   "execution_count": 12,
   "metadata": {},
   "outputs": [
    {
     "data": {
      "text/plain": [
       "68"
      ]
     },
     "execution_count": 12,
     "metadata": {},
     "output_type": "execute_result"
    }
   ],
   "source": [
    "len({x['cont_hash'] for x in dataset_scaled}) # unique containers"
   ]
  },
  {
   "cell_type": "code",
   "execution_count": 13,
   "metadata": {},
   "outputs": [
    {
     "data": {
      "text/plain": [
       "493"
      ]
     },
     "execution_count": 13,
     "metadata": {},
     "output_type": "execute_result"
    }
   ],
   "source": [
    "# Уникальных контейнеро-наполнений\n",
    "len({x['cont_hash']+'_'+x['boxes_hash'] for x in dataset_scaled})"
   ]
  },
  {
   "cell_type": "code",
   "execution_count": 14,
   "metadata": {},
   "outputs": [],
   "source": [
    "targets = dict()\n",
    "for item in dataset_scaled:\n",
    "    k = item['cont_hash']+'_'+item['boxes_hash'] \n",
    "    if k not in targets.keys():\n",
    "        targets[k] = [item['filling_space_percent']]\n",
    "    else:\n",
    "        if item['filling_space_percent'] not in targets[k]:\n",
    "            targets[k].append(item['filling_space_percent'])"
   ]
  },
  {
   "cell_type": "code",
   "execution_count": 15,
   "metadata": {},
   "outputs": [
    {
     "data": {
      "text/plain": [
       "1"
      ]
     },
     "execution_count": 15,
     "metadata": {},
     "output_type": "execute_result"
    }
   ],
   "source": [
    "# одинаковые контейнеры с наполнениями имеют одинаковый filling_space_percent\n",
    "max([len(x) for x in targets.values()])\n"
   ]
  }
 ],
 "metadata": {
  "kernelspec": {
   "display_name": "Python 3",
   "language": "python",
   "name": "python3"
  },
  "language_info": {
   "codemirror_mode": {
    "name": "ipython",
    "version": 3
   },
   "file_extension": ".py",
   "mimetype": "text/x-python",
   "name": "python",
   "nbconvert_exporter": "python",
   "pygments_lexer": "ipython3",
   "version": "3.10.5"
  },
  "orig_nbformat": 4
 },
 "nbformat": 4,
 "nbformat_minor": 2
}
