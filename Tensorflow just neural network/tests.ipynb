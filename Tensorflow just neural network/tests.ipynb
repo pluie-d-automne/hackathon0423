{
 "cells": [
  {
   "cell_type": "code",
   "execution_count": 21,
   "metadata": {},
   "outputs": [],
   "source": [
    "import yaml\n",
    "import pymongo\n",
    "import json\n",
    "from urllib.parse import quote_plus as quote\n",
    "import numpy as np\n"
   ]
  },
  {
   "cell_type": "code",
   "execution_count": 22,
   "metadata": {},
   "outputs": [],
   "source": [
    "# Подключимся к нашей коллекции\n",
    "\n",
    "with open('../../creds.yaml', 'r') as file:\n",
    "    creds_dict = yaml.safe_load(file)\n",
    "    \n",
    "url = 'mongodb://{user}:{pw}@{hosts}/?{rs}&authSource={auth_src}&{am}&tls=true&tlsCAFile={cert_file}'.format(\n",
    "    user=creds_dict['username'],\n",
    "    pw=quote(creds_dict['password']),\n",
    "    hosts=creds_dict['host'],\n",
    "    rs='replicaSet=rs01',\n",
    "    auth_src=creds_dict['database'],\n",
    "    am='authMechanism=DEFAULT',\n",
    "    cert_file='../../root.crt'\n",
    "    )\n",
    "\n",
    "dbs = pymongo.MongoClient(url)\n",
    "\n",
    "db = dbs[creds_dict['database']]\n",
    "\n",
    "collection = db['initial_dataset']"
   ]
  },
  {
   "cell_type": "code",
   "execution_count": 23,
   "metadata": {},
   "outputs": [],
   "source": [
    "# Пример aggregation pipeline - чтобы достать только нужные поля из Mongo\n",
    "pipeline = [{ \"$unwind\" : \"$data_result.boxes\" },\n",
    "            {\"$project\":{\n",
    "                \"mass\": \"$data_result.boxes.mass\",\n",
    "                \"size\": \"$data_result.boxes.size\",\n",
    "                \"stacking\": \"$data_result.boxes.stacking\",\n",
    "                \"turnover\": \"$data_result.boxes.turnover\",\n",
    "                \"stacking_limit\": \"$data_result.boxes.stacking_limit\",\n",
    "                \"loading_size\": \"$data_result.cargo_space.loading_size\",\n",
    "                \"density_percent\": \"$data_result.cargo_space.calculation_info.density_percent\",\n",
    "                \"filling_space_percent\": \"$data_result.cargo_space.calculation_info.filling_space_percent\",\n",
    "                }},\n",
    "            {\"$group\": {\"_id\": \"$_id\",\n",
    "                        \"loading_size\": {\"$first\":\"$loading_size\"},\n",
    "                        \"density_percent\": {\"$first\":\"$density_percent\"},\n",
    "                        \"filling_space_percent\": {\"$first\":\"$filling_space_percent\"},\n",
    "                        \"boxes\": {\n",
    "                            \"$push\":  {\n",
    "                                \"mass\": \"$mass\",\n",
    "                                \"size\": \"$size\",\n",
    "                                \"stacking\": \"$stacking\",\n",
    "                                \"turnover\": \"$turnover\",\n",
    "                                \"stacking_limit\": \"$stacking_limit\"                        \n",
    "                            }\n",
    "                            \n",
    "                        }\n",
    "            }\n",
    "            }\n",
    "            ]\n",
    "result = collection.aggregate(pipeline)\n",
    "#item = result.next()\n",
    "#print(item)\n",
    "dataset = [i for i in result]"
   ]
  },
  {
   "cell_type": "code",
   "execution_count": 24,
   "metadata": {},
   "outputs": [
    {
     "data": {
      "text/plain": [
       "628"
      ]
     },
     "execution_count": 24,
     "metadata": {},
     "output_type": "execute_result"
    }
   ],
   "source": [
    "len(dataset)"
   ]
  },
  {
   "cell_type": "code",
   "execution_count": 25,
   "metadata": {},
   "outputs": [
    {
     "data": {
      "text/plain": [
       "list"
      ]
     },
     "execution_count": 25,
     "metadata": {},
     "output_type": "execute_result"
    }
   ],
   "source": [
    "type(dataset)"
   ]
  },
  {
   "cell_type": "code",
   "execution_count": 26,
   "metadata": {},
   "outputs": [
    {
     "data": {
      "text/plain": [
       "dict"
      ]
     },
     "execution_count": 26,
     "metadata": {},
     "output_type": "execute_result"
    }
   ],
   "source": [
    "type(dataset[0])"
   ]
  },
  {
   "cell_type": "code",
   "execution_count": 27,
   "metadata": {},
   "outputs": [],
   "source": [
    "target_array =  []\n",
    "for data in dataset:\n",
    "    target_array.append(data['filling_space_percent']/100)\n",
    "    del data['filling_space_percent']\n",
    "    del data['density_percent']"
   ]
  },
  {
   "cell_type": "code",
   "execution_count": 28,
   "metadata": {},
   "outputs": [
    {
     "data": {
      "text/plain": [
       "0.2607989"
      ]
     },
     "execution_count": 28,
     "metadata": {},
     "output_type": "execute_result"
    }
   ],
   "source": [
    "target_array[1]"
   ]
  },
  {
   "cell_type": "code",
   "execution_count": 29,
   "metadata": {},
   "outputs": [],
   "source": [
    "source_array = []\n",
    "for data in dataset:\n",
    "    source_array_1 = [[],[],[],[],[]]\n",
    "    for box in data['boxes']:\n",
    "        source_array_1[0].append(box['size']['length'])\n",
    "        source_array_1[1].append(box['size']['width'])\n",
    "        source_array_1[2].append(box['size']['height'])\n",
    "        source_array_1[3].append(int(box['stacking']))\n",
    "        source_array_1[4].append(int(box['turnover']))\n",
    "    source_array.append(source_array_1)"
   ]
  },
  {
   "cell_type": "code",
   "execution_count": 30,
   "metadata": {},
   "outputs": [
    {
     "data": {
      "text/plain": [
       "2849"
      ]
     },
     "execution_count": 30,
     "metadata": {},
     "output_type": "execute_result"
    }
   ],
   "source": [
    "length = max(map(len, source_array))\n",
    "for arr in source_array:\n",
    "    if (max(map(len, arr)) > length):\n",
    "        length = max(map(len, arr))\n",
    "length"
   ]
  },
  {
   "cell_type": "code",
   "execution_count": 31,
   "metadata": {},
   "outputs": [],
   "source": [
    "X = []\n",
    "for arr in source_array:\n",
    "    X.append(np.array([xi+[0]*(length-len(xi)) for xi in arr]))\n",
    "\n",
    "source = np.array(X)"
   ]
  },
  {
   "cell_type": "code",
   "execution_count": 32,
   "metadata": {},
   "outputs": [
    {
     "data": {
      "text/plain": [
       "(628, 5, 2849)"
      ]
     },
     "execution_count": 32,
     "metadata": {},
     "output_type": "execute_result"
    }
   ],
   "source": [
    "source.shape"
   ]
  },
  {
   "cell_type": "code",
   "execution_count": 33,
   "metadata": {},
   "outputs": [],
   "source": [
    "import tensorflow as tf\n",
    "from tensorflow import keras\n",
    "from sklearn.model_selection import train_test_split\n",
    "from keras.layers import Input, Dense, Flatten, Reshape\n",
    "import matplotlib.pyplot as plt"
   ]
  },
  {
   "cell_type": "code",
   "execution_count": 99,
   "metadata": {},
   "outputs": [],
   "source": [
    "def one_plot(n, y_lb, loss_acc, val_loss_acc):\n",
    "    plt.subplot(1, 2, n)\n",
    "    if n == 1:\n",
    "        lb, lb2 = 'loss', 'val_loss'\n",
    "        yMin = 0\n",
    "        yMax = 1.05 * max(max(loss_acc), max(val_loss_acc))\n",
    "    else:\n",
    "        lb, lb2 = 'mean_squared_error', 'val_mean_squared_error'\n",
    "        yMin = min(min(loss_acc), min(val_loss_acc))\n",
    "        yMax = 1.0\n",
    "    plt.plot(loss_acc, color = 'r', label = lb, linestyle = '--')\n",
    "    plt.plot(val_loss_acc, color = 'g', label = lb2)\n",
    "    plt.ylabel(y_lb)\n",
    "    plt.xlabel('Эпоха')\n",
    "    plt.ylim([0.95 * yMin, yMax])\n",
    "    plt.legend()"
   ]
  },
  {
   "cell_type": "code",
   "execution_count": 35,
   "metadata": {},
   "outputs": [],
   "source": [
    "pathToHistory = '' # G:/AM/Лекции/\n",
    "suff = '.txt'\n",
    "# Имена файлов, в которые сохраняется история обучения\n",
    "fn_loss = pathToHistory + 'loss_' + suff\n",
    "fn_acc = pathToHistory + 'acc_' + suff\n",
    "fn_val_loss = pathToHistory + 'val_loss_' + suff\n",
    "fn_val_acc = pathToHistory + 'val_acc_' + suff"
   ]
  },
  {
   "cell_type": "code",
   "execution_count": 55,
   "metadata": {},
   "outputs": [
    {
     "name": "stdout",
     "output_type": "stream",
     "text": [
      "(628, 5, 2849)\n",
      "(628,)\n"
     ]
    }
   ],
   "source": [
    "X = np.asarray(source).astype(float)\n",
    "Y = np.asarray(target_array).astype(float)\n",
    "\n",
    "normalizer1 = tf.keras.layers.experimental.preprocessing.Normalization(axis=None)\n",
    "normalizer1.adapt(X)\n",
    "\n",
    "print(X.shape)\n",
    "print(Y.shape)\n",
    "x_train, x_test, y_train, y_test = train_test_split(X, Y, test_size=0.1)"
   ]
  },
  {
   "cell_type": "code",
   "execution_count": 96,
   "metadata": {},
   "outputs": [
    {
     "name": "stdout",
     "output_type": "stream",
     "text": [
      "Model: \"model_22\"\n",
      "_________________________________________________________________\n",
      " Layer (type)                Output Shape              Param #   \n",
      "=================================================================\n",
      " input_23 (InputLayer)       [(None, 5, 2849, 1)]      0         \n",
      "                                                                 \n",
      " flatten_13 (Flatten)        (None, 14245)             0         \n",
      "                                                                 \n",
      " dense_81 (Dense)            (None, 64)                911744    \n",
      "                                                                 \n",
      " dense_82 (Dense)            (None, 32)                2080      \n",
      "                                                                 \n",
      " dense_83 (Dense)            (None, 16)                528       \n",
      "                                                                 \n",
      " dense_84 (Dense)            (None, 8)                 136       \n",
      "                                                                 \n",
      " dense_85 (Dense)            (None, 1)                 9         \n",
      "                                                                 \n",
      "=================================================================\n",
      "Total params: 914,497\n",
      "Trainable params: 914,497\n",
      "Non-trainable params: 0\n",
      "_________________________________________________________________\n"
     ]
    }
   ],
   "source": [
    "inp = Input(shape=(5, 2849, 1))\n",
    "x = inp\n",
    "x = Flatten()(x)\n",
    "x = Dense(units = 64, activation = 'relu')(x)\n",
    "x = Dense(units = 32, activation = 'relu')(x)\n",
    "x = Dense(units = 16, activation = 'softsign')(x)\n",
    "x = Dense(units = 8, activation = 'softmax')(x)\n",
    "output = Dense(1, activation = 'softmax')(x)\n",
    "model = keras.Model(inputs = inp, outputs = output)\n",
    "model.summary()\n",
    "\n",
    "model.compile(\n",
    "    optimizer='Adamax',\n",
    "    loss='mean_absolute_error',\n",
    "    metrics=['mean_squared_error']\n",
    ")"
   ]
  },
  {
   "cell_type": "code",
   "execution_count": 97,
   "metadata": {},
   "outputs": [
    {
     "name": "stdout",
     "output_type": "stream",
     "text": [
      "Epoch 1/50\n",
      "36/36 [==============================] - 1s 18ms/step - loss: 0.4744 - mean_squared_error: 0.2824 - val_loss: 0.4692 - val_mean_squared_error: 0.2687\n",
      "Epoch 2/50\n",
      "36/36 [==============================] - 0s 13ms/step - loss: 0.4744 - mean_squared_error: 0.2824 - val_loss: 0.4692 - val_mean_squared_error: 0.2687\n",
      "Epoch 3/50\n",
      "36/36 [==============================] - 0s 13ms/step - loss: 0.4744 - mean_squared_error: 0.2824 - val_loss: 0.4692 - val_mean_squared_error: 0.2687\n",
      "Epoch 4/50\n",
      "36/36 [==============================] - 0s 13ms/step - loss: 0.4744 - mean_squared_error: 0.2824 - val_loss: 0.4692 - val_mean_squared_error: 0.2687\n",
      "Epoch 5/50\n",
      "36/36 [==============================] - 0s 13ms/step - loss: 0.4744 - mean_squared_error: 0.2824 - val_loss: 0.4692 - val_mean_squared_error: 0.2687\n",
      "Epoch 6/50\n",
      "36/36 [==============================] - 0s 13ms/step - loss: 0.4744 - mean_squared_error: 0.2824 - val_loss: 0.4692 - val_mean_squared_error: 0.2687\n",
      "Epoch 7/50\n",
      "36/36 [==============================] - 0s 14ms/step - loss: 0.4744 - mean_squared_error: 0.2824 - val_loss: 0.4692 - val_mean_squared_error: 0.2687\n",
      "Epoch 8/50\n",
      "36/36 [==============================] - 0s 13ms/step - loss: 0.4744 - mean_squared_error: 0.2824 - val_loss: 0.4692 - val_mean_squared_error: 0.2687\n",
      "Epoch 9/50\n",
      "36/36 [==============================] - 0s 13ms/step - loss: 0.4744 - mean_squared_error: 0.2824 - val_loss: 0.4692 - val_mean_squared_error: 0.2687\n",
      "Epoch 10/50\n",
      "36/36 [==============================] - 1s 15ms/step - loss: 0.4744 - mean_squared_error: 0.2824 - val_loss: 0.4692 - val_mean_squared_error: 0.2687\n",
      "Epoch 11/50\n",
      "36/36 [==============================] - 0s 13ms/step - loss: 0.4744 - mean_squared_error: 0.2824 - val_loss: 0.4692 - val_mean_squared_error: 0.2687\n",
      "Epoch 12/50\n",
      "36/36 [==============================] - 0s 13ms/step - loss: 0.4744 - mean_squared_error: 0.2824 - val_loss: 0.4692 - val_mean_squared_error: 0.2687\n",
      "Epoch 13/50\n",
      "36/36 [==============================] - 0s 13ms/step - loss: 0.4744 - mean_squared_error: 0.2824 - val_loss: 0.4692 - val_mean_squared_error: 0.2687\n",
      "Epoch 14/50\n",
      "36/36 [==============================] - 0s 13ms/step - loss: 0.4744 - mean_squared_error: 0.2824 - val_loss: 0.4692 - val_mean_squared_error: 0.2687\n",
      "Epoch 15/50\n",
      "36/36 [==============================] - 0s 14ms/step - loss: 0.4744 - mean_squared_error: 0.2824 - val_loss: 0.4692 - val_mean_squared_error: 0.2687\n",
      "Epoch 16/50\n",
      "36/36 [==============================] - 1s 14ms/step - loss: 0.4744 - mean_squared_error: 0.2824 - val_loss: 0.4692 - val_mean_squared_error: 0.2687\n",
      "Epoch 17/50\n",
      "36/36 [==============================] - 0s 13ms/step - loss: 0.4744 - mean_squared_error: 0.2824 - val_loss: 0.4692 - val_mean_squared_error: 0.2687\n",
      "Epoch 18/50\n",
      "36/36 [==============================] - 0s 13ms/step - loss: 0.4744 - mean_squared_error: 0.2824 - val_loss: 0.4692 - val_mean_squared_error: 0.2687\n",
      "Epoch 19/50\n",
      "36/36 [==============================] - 0s 14ms/step - loss: 0.4744 - mean_squared_error: 0.2824 - val_loss: 0.4692 - val_mean_squared_error: 0.2687\n",
      "Epoch 20/50\n",
      "36/36 [==============================] - 0s 13ms/step - loss: 0.4744 - mean_squared_error: 0.2824 - val_loss: 0.4692 - val_mean_squared_error: 0.2687\n",
      "Epoch 21/50\n",
      "36/36 [==============================] - 0s 13ms/step - loss: 0.4744 - mean_squared_error: 0.2824 - val_loss: 0.4692 - val_mean_squared_error: 0.2687\n",
      "Epoch 22/50\n",
      "36/36 [==============================] - 0s 13ms/step - loss: 0.4744 - mean_squared_error: 0.2824 - val_loss: 0.4692 - val_mean_squared_error: 0.2687\n",
      "Epoch 23/50\n",
      "36/36 [==============================] - 0s 13ms/step - loss: 0.4744 - mean_squared_error: 0.2824 - val_loss: 0.4692 - val_mean_squared_error: 0.2687\n",
      "Epoch 24/50\n",
      "36/36 [==============================] - 0s 14ms/step - loss: 0.4744 - mean_squared_error: 0.2824 - val_loss: 0.4692 - val_mean_squared_error: 0.2687\n",
      "Epoch 25/50\n",
      "36/36 [==============================] - 0s 13ms/step - loss: 0.4744 - mean_squared_error: 0.2824 - val_loss: 0.4692 - val_mean_squared_error: 0.2687\n",
      "Epoch 26/50\n",
      "36/36 [==============================] - 0s 14ms/step - loss: 0.4744 - mean_squared_error: 0.2824 - val_loss: 0.4692 - val_mean_squared_error: 0.2687\n",
      "Epoch 27/50\n",
      "36/36 [==============================] - 0s 14ms/step - loss: 0.4744 - mean_squared_error: 0.2824 - val_loss: 0.4692 - val_mean_squared_error: 0.2687\n",
      "Epoch 28/50\n",
      "36/36 [==============================] - 0s 13ms/step - loss: 0.4744 - mean_squared_error: 0.2824 - val_loss: 0.4692 - val_mean_squared_error: 0.2687\n",
      "Epoch 29/50\n",
      "36/36 [==============================] - 0s 13ms/step - loss: 0.4744 - mean_squared_error: 0.2824 - val_loss: 0.4692 - val_mean_squared_error: 0.2687\n",
      "Epoch 30/50\n",
      "36/36 [==============================] - 0s 13ms/step - loss: 0.4744 - mean_squared_error: 0.2824 - val_loss: 0.4692 - val_mean_squared_error: 0.2687\n",
      "Epoch 31/50\n",
      "36/36 [==============================] - 0s 14ms/step - loss: 0.4744 - mean_squared_error: 0.2824 - val_loss: 0.4692 - val_mean_squared_error: 0.2687\n",
      "Epoch 32/50\n",
      "36/36 [==============================] - 0s 14ms/step - loss: 0.4744 - mean_squared_error: 0.2824 - val_loss: 0.4692 - val_mean_squared_error: 0.2687\n",
      "Epoch 33/50\n",
      "36/36 [==============================] - 0s 13ms/step - loss: 0.4744 - mean_squared_error: 0.2824 - val_loss: 0.4692 - val_mean_squared_error: 0.2687\n",
      "Epoch 34/50\n",
      "36/36 [==============================] - 0s 13ms/step - loss: 0.4744 - mean_squared_error: 0.2824 - val_loss: 0.4692 - val_mean_squared_error: 0.2687\n",
      "Epoch 35/50\n",
      "36/36 [==============================] - 1s 14ms/step - loss: 0.4744 - mean_squared_error: 0.2824 - val_loss: 0.4692 - val_mean_squared_error: 0.2687\n",
      "Epoch 36/50\n",
      "36/36 [==============================] - 0s 13ms/step - loss: 0.4744 - mean_squared_error: 0.2824 - val_loss: 0.4692 - val_mean_squared_error: 0.2687\n",
      "Epoch 37/50\n",
      "36/36 [==============================] - 0s 13ms/step - loss: 0.4744 - mean_squared_error: 0.2824 - val_loss: 0.4692 - val_mean_squared_error: 0.2687\n",
      "Epoch 38/50\n",
      "36/36 [==============================] - 0s 14ms/step - loss: 0.4744 - mean_squared_error: 0.2824 - val_loss: 0.4692 - val_mean_squared_error: 0.2687\n",
      "Epoch 39/50\n",
      "36/36 [==============================] - 0s 13ms/step - loss: 0.4744 - mean_squared_error: 0.2824 - val_loss: 0.4692 - val_mean_squared_error: 0.2687\n",
      "Epoch 40/50\n",
      "36/36 [==============================] - 0s 13ms/step - loss: 0.4744 - mean_squared_error: 0.2824 - val_loss: 0.4692 - val_mean_squared_error: 0.2687\n",
      "Epoch 41/50\n",
      "36/36 [==============================] - 0s 13ms/step - loss: 0.4744 - mean_squared_error: 0.2824 - val_loss: 0.4692 - val_mean_squared_error: 0.2687\n",
      "Epoch 42/50\n",
      "36/36 [==============================] - 0s 14ms/step - loss: 0.4744 - mean_squared_error: 0.2824 - val_loss: 0.4692 - val_mean_squared_error: 0.2687\n",
      "Epoch 43/50\n",
      "36/36 [==============================] - 0s 13ms/step - loss: 0.4744 - mean_squared_error: 0.2824 - val_loss: 0.4692 - val_mean_squared_error: 0.2687\n",
      "Epoch 44/50\n",
      "36/36 [==============================] - 0s 14ms/step - loss: 0.4744 - mean_squared_error: 0.2824 - val_loss: 0.4692 - val_mean_squared_error: 0.2687\n",
      "Epoch 45/50\n",
      "36/36 [==============================] - 0s 13ms/step - loss: 0.4744 - mean_squared_error: 0.2824 - val_loss: 0.4692 - val_mean_squared_error: 0.2687\n",
      "Epoch 46/50\n",
      "36/36 [==============================] - 0s 14ms/step - loss: 0.4744 - mean_squared_error: 0.2824 - val_loss: 0.4692 - val_mean_squared_error: 0.2687\n",
      "Epoch 47/50\n",
      "36/36 [==============================] - 0s 14ms/step - loss: 0.4744 - mean_squared_error: 0.2824 - val_loss: 0.4692 - val_mean_squared_error: 0.2687\n",
      "Epoch 48/50\n",
      "36/36 [==============================] - 1s 15ms/step - loss: 0.4744 - mean_squared_error: 0.2824 - val_loss: 0.4692 - val_mean_squared_error: 0.2687\n",
      "Epoch 49/50\n",
      "36/36 [==============================] - 1s 15ms/step - loss: 0.4744 - mean_squared_error: 0.2824 - val_loss: 0.4692 - val_mean_squared_error: 0.2687\n",
      "Epoch 50/50\n",
      "36/36 [==============================] - 0s 13ms/step - loss: 0.4744 - mean_squared_error: 0.2824 - val_loss: 0.4692 - val_mean_squared_error: 0.2687\n"
     ]
    }
   ],
   "source": [
    "history = model.fit(x_train, y_train, batch_size = 16, epochs = 50, validation_data = (x_test, y_test))"
   ]
  },
  {
   "cell_type": "code",
   "execution_count": 101,
   "metadata": {},
   "outputs": [
    {
     "data": {
      "image/png": "[encoded data removed]",
      "text/plain": [
       "<Figure size 900x400 with 2 Axes>"
      ]
     },
     "metadata": {},
     "output_type": "display_data"
    }
   ],
   "source": [
    "# Запись истории обучения в текстовые файлы\n",
    "#history = history.history\n",
    "with open(fn_loss, 'w') as output:\n",
    "    for val in history['loss']: output.write(str(val) + '\\n')\n",
    "with open(fn_acc, 'w') as output:\n",
    "    for val in history['mean_squared_error']: output.write(str(val) + '\\n')\n",
    "with open(fn_val_loss, 'w') as output:\n",
    "    for val in history['val_loss']: output.write(str(val) + '\\n')\n",
    "with open(fn_val_acc, 'w') as output:\n",
    "    for val in history['val_mean_squared_error']: output.write(str(val) + '\\n')\n",
    "# Вывод графиков обучения\n",
    "plt.figure(figsize = (9, 4))\n",
    "plt.subplots_adjust(wspace = 0.5)\n",
    "one_plot(1, 'Потери', history['loss'], history['val_loss'])\n",
    "one_plot(2, 'Точность', history['mean_squared_error'], history['val_mean_squared_error'])\n",
    "plt.suptitle('Потери и точность')\n",
    "plt.show()"
   ]
  }
 ],
 "metadata": {
  "kernelspec": {
   "display_name": "Python 3",
   "language": "python",
   "name": "python3"
  },
  "language_info": {
   "codemirror_mode": {
    "name": "ipython",
    "version": 3
   },
   "file_extension": ".py",
   "mimetype": "text/x-python",
   "name": "python",
   "nbconvert_exporter": "python",
   "pygments_lexer": "ipython3",
   "version": "3.11.2"
  },
  "orig_nbformat": 4
 },
 "nbformat": 4,
 "nbformat_minor": 2
}
