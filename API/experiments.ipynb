{
 "cells": [
  {
   "cell_type": "code",
   "execution_count": 32,
   "metadata": {},
   "outputs": [],
   "source": [
    "import os\n",
    "import json\n",
    "import numpy as np\n",
    "import keras"
   ]
  },
  {
   "cell_type": "code",
   "execution_count": 28,
   "metadata": {},
   "outputs": [
    {
     "name": "stdout",
     "output_type": "stream",
     "text": [
      "Всего документов в датасете: 628\n"
     ]
    }
   ],
   "source": [
    "# Получим наши записи из датасета в виде списка\n",
    "dataset = list()\n",
    "dataset_dir_path = 'path_to_dataset/ALGORITM/ALGORITM'\n",
    "for filename in os.listdir(dataset_dir_path):\n",
    "    with open(dataset_dir_path+\"/\"+ filename, mode=\"r\", encoding='utf-8') as f:\n",
    "        item = json.load(f)\n",
    "        dataset.append(item)\n",
    "\n",
    "print(f\"Всего документов в датасете: {len(dataset)}\")"
   ]
  },
  {
   "cell_type": "code",
   "execution_count": 75,
   "metadata": {},
   "outputs": [],
   "source": [
    "item = dataset[89]"
   ]
  },
  {
   "cell_type": "code",
   "execution_count": 76,
   "metadata": {},
   "outputs": [
    {
     "data": {
      "text/plain": [
       "58.35529"
      ]
     },
     "execution_count": 76,
     "metadata": {},
     "output_type": "execute_result"
    }
   ],
   "source": [
    "item['data_result']['cargo_space']['calculation_info']['density_percent']"
   ]
  },
  {
   "cell_type": "code",
   "execution_count": 77,
   "metadata": {},
   "outputs": [
    {
     "name": "stdout",
     "output_type": "stream",
     "text": [
      "58\n"
     ]
    }
   ],
   "source": [
    "from input_prep_CNN import input_prep_CNN\n",
    "model = keras.models.load_model('CNN.h5')\n",
    "prediction = model.predict(input_prep_CNN(item), verbose=0)\n",
    "prediction = np.where(prediction[0]==max(prediction[0]))[0][0]\n",
    "print(prediction)"
   ]
  }
 ],
 "metadata": {
  "kernelspec": {
   "display_name": "Python 3",
   "language": "python",
   "name": "python3"
  },
  "language_info": {
   "codemirror_mode": {
    "name": "ipython",
    "version": 3
   },
   "file_extension": ".py",
   "mimetype": "text/x-python",
   "name": "python",
   "nbconvert_exporter": "python",
   "pygments_lexer": "ipython3",
   "version": "3.10.5"
  },
  "orig_nbformat": 4
 },
 "nbformat": 4,
 "nbformat_minor": 2
}
