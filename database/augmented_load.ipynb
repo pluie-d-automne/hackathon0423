{
 "cells": [
  {
   "cell_type": "code",
   "execution_count": 20,
   "metadata": {},
   "outputs": [],
   "source": [
    "import yaml\n",
    "import pymongo\n",
    "from urllib.parse import quote_plus as quote\n",
    "import hashlib\n",
    "import itertools\n",
    "import random"
   ]
  },
  {
   "cell_type": "code",
   "execution_count": 21,
   "metadata": {},
   "outputs": [],
   "source": [
    "# Подключимся к нашей коллекции\n",
    "\n",
    "with open('../env/credsw.yaml', 'r') as file:\n",
    "    creds_dict = yaml.safe_load(file)\n",
    "    \n",
    "url = 'mongodb://{user}:{pw}@{hosts}/?{rs}&authSource={auth_src}&{am}&tls=true&tlsCAFile={cert_file}'.format(\n",
    "    user=creds_dict['username'],\n",
    "    pw=quote(creds_dict['password']),\n",
    "    hosts=creds_dict['host'],\n",
    "    rs='replicaSet=rs01',\n",
    "    auth_src=creds_dict['database'],\n",
    "    am='authMechanism=DEFAULT',\n",
    "    cert_file='../env/root.crt'\n",
    "    )\n",
    "\n",
    "dbs = pymongo.MongoClient(url)\n",
    "\n",
    "db = dbs[creds_dict['database']]\n",
    "\n",
    "augmented_collection = db['augmented_dataset']\n",
    "unique_collection = db['unique_dataset']"
   ]
  },
  {
   "cell_type": "code",
   "execution_count": 22,
   "metadata": {},
   "outputs": [],
   "source": [
    "# Выгрузим данные из коллекции\n",
    "pipeline = [{ \"$unwind\" : \"$boxes\" },\n",
    "            {\"$project\":{\n",
    "                \"size\": \"$boxes.size_scale\",\n",
    "                \"stacking\": \"$boxes.stacking\",\n",
    "                \"turnover\": \"$boxes.turnover\",\n",
    "                \"loading_size\": \"$loading_size_scale\",\n",
    "                \"filling_space_percent\": \"$filling_space_percent\"\n",
    "                }},\n",
    "            {\"$group\": {\"_id\": \"$_id\",\n",
    "                        \"loading_size\": {\"$first\":\"$loading_size\"},\n",
    "                        \"filling_space_percent\": {\"$first\":\"$filling_space_percent\"},\n",
    "                        \"boxes\": {\n",
    "                            \"$push\":  {\n",
    "                                \"size\": \"$size\",\n",
    "                                \"stacking\": \"$stacking\",\n",
    "                                \"turnover\": \"$turnover\"                         \n",
    "                            }\n",
    "                            \n",
    "                        }\n",
    "            }\n",
    "            }\n",
    "            ]\n",
    "result = unique_collection.aggregate(pipeline)\n",
    "dataset = [i for i in result]"
   ]
  },
  {
   "cell_type": "code",
   "execution_count": 23,
   "metadata": {},
   "outputs": [
    {
     "name": "stdout",
     "output_type": "stream",
     "text": [
      "2849 1\n"
     ]
    }
   ],
   "source": [
    "x = [len(dataset[i]['boxes']) for i in range(len(dataset))]\n",
    "test_item = x.index(4)\n",
    "print(max(x), min(x))"
   ]
  },
  {
   "cell_type": "code",
   "execution_count": 24,
   "metadata": {},
   "outputs": [],
   "source": [
    "def as_is_hash(box): #box_i = dataset[0]['boxes'][i]\n",
    "    hash_object = hashlib.sha256(\n",
    "        ('h'+str(box['size']['height'])+\\\n",
    "         'w'+str(box['size']['width'])+\\\n",
    "         'l'+str(box['size']['length'])+\\\n",
    "         's'+str(box['stacking'])+\\\n",
    "         't'+str(box['turnover'])\n",
    "        ).encode())\n",
    "    return hash_object.hexdigest()"
   ]
  },
  {
   "cell_type": "code",
   "execution_count": 25,
   "metadata": {},
   "outputs": [],
   "source": [
    "# Функция ротации коробок\n",
    "def rotate_box(box):\n",
    "    box_rotated = list()\n",
    "    sizes = box['size']\n",
    "    sizes = (sizes['width'], sizes['height'], sizes['length'])\n",
    "    if box['turnover']:\n",
    "        sizes = [{'width':x[0], 'height':x[1], 'length':x[2]} for x in set(itertools.permutations(sizes, 3))]     \n",
    "    else:\n",
    "        sizes = [{'width':x[0], 'height':x[1], 'length':x[2]} for x in [sizes, tuple(reversed(sizes))]]\n",
    "    t = 6 # тут можно ограничить кол-во ротаций одной коробки (максимум 6)\n",
    "    if len(sizes)>t:\n",
    "        sizes = random.sample(sizes,t) \n",
    "    for size in sizes:\n",
    "            new_box = dict(box)\n",
    "            new_box['size'] = size\n",
    "            new_box['hash'] = as_is_hash(new_box)\n",
    "            box_rotated.append(new_box)\n",
    "    return  box_rotated\n",
    "\n",
    "def rotate_boxes(boxes):\n",
    "    if len(boxes) == 1:\n",
    "        return [[x] for x in rotate_box(boxes[0])]\n",
    "    else:\n",
    "       result = list(itertools.product([x for x in rotate_box(boxes[0])], rotate_boxes(boxes[1:])))\n",
    "       return ([x[0]] +x[1] for x in result)"
   ]
  },
  {
   "cell_type": "code",
   "execution_count": 26,
   "metadata": {},
   "outputs": [],
   "source": [
    "def augment_item(item):\n",
    "    boxes_combinations = rotate_boxes(item['boxes'])\n",
    "    new_items = list()\n",
    "    for boxes in boxes_combinations:\n",
    "        hash_object = hashlib.sha256(((item['_id'] + '_' + ','.join([box['hash'] for box in boxes]))).encode())\n",
    "        new_item = dict(\n",
    "                _id= hash_object.hexdigest(),\n",
    "                hash= item['_id'],\n",
    "                loading_size= item['loading_size'],\n",
    "                filling_space_percent=item['filling_space_percent'],\n",
    "                boxes= boxes\n",
    "        )\n",
    "        if new_item['_id'] not in [x['_id'] for x in new_items]:\n",
    "            new_items.append(new_item)\n",
    "    return new_items"
   ]
  },
  {
   "cell_type": "code",
   "execution_count": 27,
   "metadata": {},
   "outputs": [
    {
     "name": "stdout",
     "output_type": "stream",
     "text": [
      "4\n",
      "16\n"
     ]
    }
   ],
   "source": [
    "# test\n",
    "test = augment_item(dataset[test_item])\n",
    "print(len(dataset[test_item]['boxes']))\n",
    "boxes_combinations = rotate_boxes(dataset[test_item]['boxes'])\n",
    "print(len(list(boxes_combinations)))\n"
   ]
  },
  {
   "cell_type": "code",
   "execution_count": 28,
   "metadata": {},
   "outputs": [
    {
     "name": "stdout",
     "output_type": "stream",
     "text": [
      "Item processed: 1, created items: 1, total: 1\n",
      "Item processed: 2, created items: 216, total: 217\n",
      "Item processed: 3, created items: 1, total: 218\n",
      "Item processed: 4, created items: 1, total: 219\n",
      "Item processed: 100, created items: 1, total: 385\n",
      "Item processed: 200, created items: 1, total: 518\n",
      "Item processed: 300, created items: 1, total: 658\n",
      "Item processed: 400, created items: 1, total: 793\n"
     ]
    }
   ],
   "source": [
    "i, n = 0, 0\n",
    "for unique_item in dataset:\n",
    "    i+=1\n",
    "    j = 0\n",
    "    if len(unique_item['boxes']) < 4: # Тут можно ограничить длину вектора коробок, подлежащего вращению коробок\n",
    "        for item in augment_item(unique_item):\n",
    "            j+=1\n",
    "            result = augmented_collection.update_one(\n",
    "                {'_id': item['_id']},\n",
    "                {'$set': {'filling_space_percent': item['filling_space_percent'],\n",
    "                  'loading_size': item['loading_size'],\n",
    "                  'boxes': item['boxes'],\n",
    "                  'group_hash': item['hash'],                                   \n",
    "                  }\n",
    "                },\n",
    "                upsert=True)\n",
    "    else:\n",
    "        j+=1\n",
    "        result = augmented_collection.update_one(\n",
    "                {'_id': unique_item['_id']},\n",
    "                {'$set': {'filling_space_percent': unique_item['filling_space_percent'],\n",
    "                  'loading_size': unique_item['loading_size'],\n",
    "                  'boxes': unique_item['boxes'],\n",
    "                  'group_hash': unique_item['_id'],                                   \n",
    "                  }\n",
    "                },\n",
    "                upsert=True)\n",
    "    n+=j\n",
    "    if i < 5 or i%100 == 0:    \n",
    "        print(f\"Item processed: {i}, created items: {j}, total: {n}\")"
   ]
  }
 ],
 "metadata": {
  "kernelspec": {
   "display_name": "Python 3",
   "language": "python",
   "name": "python3"
  },
  "language_info": {
   "codemirror_mode": {
    "name": "ipython",
    "version": 3
   },
   "file_extension": ".py",
   "mimetype": "text/x-python",
   "name": "python",
   "nbconvert_exporter": "python",
   "pygments_lexer": "ipython3",
   "version": "3.10.5"
  },
  "orig_nbformat": 4
 },
 "nbformat": 4,
 "nbformat_minor": 2
}
