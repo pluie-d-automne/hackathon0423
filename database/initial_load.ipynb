{
 "cells": [
  {
   "attachments": {},
   "cell_type": "markdown",
   "metadata": {},
   "source": [
    "# Загрузим исходные данные as is"
   ]
  },
  {
   "cell_type": "code",
   "execution_count": 13,
   "metadata": {},
   "outputs": [],
   "source": [
    "import os\n",
    "import json\n",
    "import yaml\n",
    "import pymongo\n",
    "from urllib.parse import quote_plus as quote"
   ]
  },
  {
   "cell_type": "code",
   "execution_count": 14,
   "metadata": {},
   "outputs": [],
   "source": [
    "# Подключимся к нашей коллекции\n",
    "\n",
    "with open('../env/credsw.yaml', 'r') as file:\n",
    "    creds_dict = yaml.safe_load(file)\n",
    "    \n",
    "url = 'mongodb://{user}:{pw}@{hosts}/?{rs}&authSource={auth_src}&{am}&tls=true&tlsCAFile={cert_file}'.format(\n",
    "    user=creds_dict['username'],\n",
    "    pw=quote(creds_dict['password']),\n",
    "    hosts=creds_dict['host'],\n",
    "    rs='replicaSet=rs01',\n",
    "    auth_src=creds_dict['database'],\n",
    "    am='authMechanism=DEFAULT',\n",
    "    cert_file='../env/root.crt'\n",
    "    )\n",
    "\n",
    "dbs = pymongo.MongoClient(url)\n",
    "\n",
    "db = dbs[creds_dict['database']]\n",
    "\n",
    "collection = db['initial_dataset']"
   ]
  },
  {
   "cell_type": "code",
   "execution_count": 8,
   "metadata": {},
   "outputs": [
    {
     "name": "stdout",
     "output_type": "stream",
     "text": [
      "Всего документов в датасете: 628\n"
     ]
    }
   ],
   "source": [
    "# Получим наши записи из датасета в виде списка\n",
    "dataset = list()\n",
    "dataset_dir_path = 'C:/Users/pdkud/Downloads/ALGORITM/ALGORITM'\n",
    "for filename in os.listdir(dataset_dir_path):\n",
    "    with open(dataset_dir_path+\"/\"+ filename, mode=\"r\", encoding='utf-8') as f:\n",
    "        item = json.load(f)\n",
    "        dataset.append(item)\n",
    "\n",
    "print(f\"Всего документов в датасете: {len(dataset)}\")"
   ]
  },
  {
   "cell_type": "code",
   "execution_count": 15,
   "metadata": {},
   "outputs": [
    {
     "name": "stdout",
     "output_type": "stream",
     "text": [
      "Внесено 628 документов\n"
     ]
    }
   ],
   "source": [
    "# Отправим их в MongoDb\n",
    "result = collection.insert_many(dataset)\n",
    "print(f\"Внесено {len(result.inserted_ids)} документов\")"
   ]
  }
 ],
 "metadata": {
  "kernelspec": {
   "display_name": "Python 3",
   "language": "python",
   "name": "python3"
  },
  "language_info": {
   "codemirror_mode": {
    "name": "ipython",
    "version": 3
   },
   "file_extension": ".py",
   "mimetype": "text/x-python",
   "name": "python",
   "nbconvert_exporter": "python",
   "pygments_lexer": "ipython3",
   "version": "3.10.5"
  },
  "orig_nbformat": 4
 },
 "nbformat": 4,
 "nbformat_minor": 2
}
