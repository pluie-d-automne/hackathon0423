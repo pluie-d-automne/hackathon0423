{
 "cells": [
  {
   "cell_type": "code",
   "execution_count": null,
   "metadata": {},
   "outputs": [],
   "source": [
    "# !pip install pyyaml\n",
    "# !pip install pyMongo"
   ]
  },
  {
   "cell_type": "code",
   "execution_count": 5,
   "metadata": {},
   "outputs": [],
   "source": [
    "import yaml\n",
    "import pymongo\n",
    "from urllib.parse import quote_plus as quote"
   ]
  },
  {
   "cell_type": "code",
   "execution_count": 6,
   "metadata": {},
   "outputs": [],
   "source": [
    "# Подключимся к нашей коллекции\n",
    "\n",
    "with open('../env/creds.yaml', 'r') as file:\n",
    "    creds_dict = yaml.safe_load(file)\n",
    "    \n",
    "url = 'mongodb://{user}:{pw}@{hosts}/?{rs}&authSource={auth_src}&{am}&tls=true&tlsCAFile={cert_file}'.format(\n",
    "    user=creds_dict['username'],\n",
    "    pw=quote(creds_dict['password']),\n",
    "    hosts=creds_dict['host'],\n",
    "    rs='replicaSet=rs01',\n",
    "    auth_src=creds_dict['database'],\n",
    "    am='authMechanism=DEFAULT',\n",
    "    cert_file='../env/root.crt'\n",
    "    )\n",
    "\n",
    "dbs = pymongo.MongoClient(url)\n",
    "\n",
    "db = dbs[creds_dict['database']]\n",
    "\n",
    "collection = db['initial_dataset']"
   ]
  },
  {
   "cell_type": "code",
   "execution_count": 53,
   "metadata": {},
   "outputs": [],
   "source": [
    "# Пример aggregation pipeline - чтобы достать только нужные поля из Mongo\n",
    "pipeline = [{ \"$unwind\" : \"$data_result.boxes\" },\n",
    "            {\"$project\":{\n",
    "                \"mass\": \"$data_result.boxes.mass\",\n",
    "                \"size\": \"$data_result.boxes.size\",\n",
    "                \"stacking\": \"$data_result.boxes.stacking\",\n",
    "                \"turnover\": \"$data_result.boxes.turnover\",\n",
    "                \"stacking_limit\": \"$data_result.boxes.stacking_limit\",\n",
    "                \"loading_size\": \"$data_result.cargo_space.loading_size\",\n",
    "                \"density_percent\": \"$data_result.cargo_space.calculation_info.density_percent\",\n",
    "                \"filling_space_percent\": \"$data_result.cargo_space.calculation_info.filling_space_percent\",\n",
    "                }},\n",
    "            {\"$group\": {\"_id\": \"$_id\",\n",
    "                        \"loading_size\": {\"$first\":\"$loading_size\"},\n",
    "                        \"density_percent\": {\"$first\":\"$density_percent\"},\n",
    "                        \"filling_space_percent\": {\"$first\":\"$filling_space_percent\"},\n",
    "                        \"boxes\": {\n",
    "                            \"$push\":  {\n",
    "                                \"mass\": \"$mass\",\n",
    "                                \"size\": \"$size\",\n",
    "                                \"stacking\": \"$stacking\",\n",
    "                                \"turnover\": \"$turnover\",\n",
    "                                \"stacking_limit\": \"$stacking_limit\"                               \n",
    "                            }\n",
    "                            \n",
    "                        }\n",
    "            }\n",
    "            }\n",
    "            ]\n",
    "result = collection.aggregate(pipeline)\n",
    "#item = result.next()\n",
    "#print(item)\n",
    "dataset = [i for i in result]"
   ]
  },
  {
   "cell_type": "code",
   "execution_count": 54,
   "metadata": {},
   "outputs": [
    {
     "data": {
      "text/plain": [
       "628"
      ]
     },
     "execution_count": 54,
     "metadata": {},
     "output_type": "execute_result"
    }
   ],
   "source": [
    "len(dataset)"
   ]
  },
  {
   "cell_type": "code",
   "execution_count": 56,
   "metadata": {},
   "outputs": [
    {
     "data": {
      "text/plain": [
       "list"
      ]
     },
     "execution_count": 56,
     "metadata": {},
     "output_type": "execute_result"
    }
   ],
   "source": [
    "type(dataset)"
   ]
  },
  {
   "cell_type": "code",
   "execution_count": 55,
   "metadata": {},
   "outputs": [
    {
     "data": {
      "text/plain": [
       "{'_id': ObjectId('6427400ea78245bedd47ad01'),\n",
       " 'loading_size': {'width': 800.0, 'height': 2000.0, 'length': 1200.0},\n",
       " 'density_percent': 77.27151,\n",
       " 'filling_space_percent': 71.8625,\n",
       " 'boxes': [{'mass': 5.0,\n",
       "   'size': {'width': 280.0, 'height': 450.0, 'length': 280.0},\n",
       "   'stacking': True,\n",
       "   'turnover': True,\n",
       "   'stacking_limit': 0.0},\n",
       "  {'mass': 5.0,\n",
       "   'size': {'width': 280.0, 'height': 450.0, 'length': 280.0},\n",
       "   'stacking': True,\n",
       "   'turnover': True,\n",
       "   'stacking_limit': 0.0},\n",
       "  {'mass': 5.0,\n",
       "   'size': {'width': 280.0, 'height': 450.0, 'length': 280.0},\n",
       "   'stacking': True,\n",
       "   'turnover': True,\n",
       "   'stacking_limit': 0.0},\n",
       "  {'mass': 5.0,\n",
       "   'size': {'width': 280.0, 'height': 450.0, 'length': 280.0},\n",
       "   'stacking': True,\n",
       "   'turnover': True,\n",
       "   'stacking_limit': 0.0},\n",
       "  {'mass': 5.0,\n",
       "   'size': {'width': 280.0, 'height': 450.0, 'length': 280.0},\n",
       "   'stacking': True,\n",
       "   'turnover': True,\n",
       "   'stacking_limit': 0.0},\n",
       "  {'mass': 5.0,\n",
       "   'size': {'width': 280.0, 'height': 450.0, 'length': 280.0},\n",
       "   'stacking': True,\n",
       "   'turnover': True,\n",
       "   'stacking_limit': 0.0},\n",
       "  {'mass': 5.0,\n",
       "   'size': {'width': 280.0, 'height': 450.0, 'length': 280.0},\n",
       "   'stacking': True,\n",
       "   'turnover': True,\n",
       "   'stacking_limit': 0.0},\n",
       "  {'mass': 5.0,\n",
       "   'size': {'width': 280.0, 'height': 450.0, 'length': 280.0},\n",
       "   'stacking': True,\n",
       "   'turnover': True,\n",
       "   'stacking_limit': 0.0},\n",
       "  {'mass': 5.0,\n",
       "   'size': {'width': 280.0, 'height': 450.0, 'length': 280.0},\n",
       "   'stacking': True,\n",
       "   'turnover': True,\n",
       "   'stacking_limit': 0.0},\n",
       "  {'mass': 5.0,\n",
       "   'size': {'width': 280.0, 'height': 450.0, 'length': 280.0},\n",
       "   'stacking': True,\n",
       "   'turnover': True,\n",
       "   'stacking_limit': 0.0},\n",
       "  {'mass': 5.0,\n",
       "   'size': {'width': 280.0, 'height': 450.0, 'length': 280.0},\n",
       "   'stacking': True,\n",
       "   'turnover': True,\n",
       "   'stacking_limit': 0.0},\n",
       "  {'mass': 5.0,\n",
       "   'size': {'width': 280.0, 'height': 450.0, 'length': 280.0},\n",
       "   'stacking': True,\n",
       "   'turnover': True,\n",
       "   'stacking_limit': 0.0},\n",
       "  {'mass': 5.0,\n",
       "   'size': {'width': 300.0, 'height': 530.0, 'length': 300.0},\n",
       "   'stacking': True,\n",
       "   'turnover': True,\n",
       "   'stacking_limit': 0.0},\n",
       "  {'mass': 5.0,\n",
       "   'size': {'width': 300.0, 'height': 530.0, 'length': 300.0},\n",
       "   'stacking': True,\n",
       "   'turnover': True,\n",
       "   'stacking_limit': 0.0},\n",
       "  {'mass': 5.0,\n",
       "   'size': {'width': 300.0, 'height': 530.0, 'length': 300.0},\n",
       "   'stacking': True,\n",
       "   'turnover': True,\n",
       "   'stacking_limit': 0.0},\n",
       "  {'mass': 5.0,\n",
       "   'size': {'width': 300.0, 'height': 530.0, 'length': 300.0},\n",
       "   'stacking': True,\n",
       "   'turnover': True,\n",
       "   'stacking_limit': 0.0},\n",
       "  {'mass': 5.0,\n",
       "   'size': {'width': 300.0, 'height': 530.0, 'length': 300.0},\n",
       "   'stacking': True,\n",
       "   'turnover': True,\n",
       "   'stacking_limit': 0.0},\n",
       "  {'mass': 5.0,\n",
       "   'size': {'width': 300.0, 'height': 530.0, 'length': 300.0},\n",
       "   'stacking': True,\n",
       "   'turnover': True,\n",
       "   'stacking_limit': 0.0},\n",
       "  {'mass': 5.0,\n",
       "   'size': {'width': 300.0, 'height': 530.0, 'length': 300.0},\n",
       "   'stacking': True,\n",
       "   'turnover': True,\n",
       "   'stacking_limit': 0.0},\n",
       "  {'mass': 5.0,\n",
       "   'size': {'width': 300.0, 'height': 530.0, 'length': 300.0},\n",
       "   'stacking': True,\n",
       "   'turnover': True,\n",
       "   'stacking_limit': 0.0},\n",
       "  {'mass': 5.0,\n",
       "   'size': {'width': 300.0, 'height': 530.0, 'length': 300.0},\n",
       "   'stacking': True,\n",
       "   'turnover': True,\n",
       "   'stacking_limit': 0.0},\n",
       "  {'mass': 5.0,\n",
       "   'size': {'width': 300.0, 'height': 530.0, 'length': 300.0},\n",
       "   'stacking': True,\n",
       "   'turnover': True,\n",
       "   'stacking_limit': 0.0},\n",
       "  {'mass': 5.0,\n",
       "   'size': {'width': 300.0, 'height': 530.0, 'length': 300.0},\n",
       "   'stacking': True,\n",
       "   'turnover': True,\n",
       "   'stacking_limit': 0.0},\n",
       "  {'mass': 5.0,\n",
       "   'size': {'width': 300.0, 'height': 530.0, 'length': 300.0},\n",
       "   'stacking': True,\n",
       "   'turnover': True,\n",
       "   'stacking_limit': 0.0},\n",
       "  {'mass': 1.0,\n",
       "   'size': {'width': 400.0, 'height': 400.0, 'length': 600.0},\n",
       "   'stacking': True,\n",
       "   'turnover': True,\n",
       "   'stacking_limit': 0.0},\n",
       "  {'mass': 1.0,\n",
       "   'size': {'width': 400.0, 'height': 400.0, 'length': 600.0},\n",
       "   'stacking': True,\n",
       "   'turnover': True,\n",
       "   'stacking_limit': 0.0},\n",
       "  {'mass': 1.0,\n",
       "   'size': {'width': 400.0, 'height': 400.0, 'length': 600.0},\n",
       "   'stacking': True,\n",
       "   'turnover': True,\n",
       "   'stacking_limit': 0.0},\n",
       "  {'mass': 1.0,\n",
       "   'size': {'width': 400.0, 'height': 400.0, 'length': 600.0},\n",
       "   'stacking': True,\n",
       "   'turnover': True,\n",
       "   'stacking_limit': 0.0}]}"
      ]
     },
     "execution_count": 55,
     "metadata": {},
     "output_type": "execute_result"
    }
   ],
   "source": [
    "dataset[0]"
   ]
  }
 ],
 "metadata": {
  "kernelspec": {
   "display_name": "Python 3",
   "language": "python",
   "name": "python3"
  },
  "language_info": {
   "codemirror_mode": {
    "name": "ipython",
    "version": 3
   },
   "file_extension": ".py",
   "mimetype": "text/x-python",
   "name": "python",
   "nbconvert_exporter": "python",
   "pygments_lexer": "ipython3",
   "version": "3.10.5"
  },
  "orig_nbformat": 4
 },
 "nbformat": 4,
 "nbformat_minor": 2
}
